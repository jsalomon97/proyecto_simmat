{
 "cells": [
  {
   "cell_type": "markdown",
   "metadata": {},
   "source": [
    "<img style=\"float: right; margin: 0px 0px 15px 15px;\" src=\"https://www.iteso.mx/documents/27014/202031/Logo-ITESO-MinimoV.png\" width=\"200px\" height=\"100px\" />\n",
    "\n",
    "\n",
    "# Proyecto Módulo 2- Guía.\n",
    "> En el siguiente proyecto descubriremos si nuestra hipótesis es verdadera, sobre las campañas que hablan acerca del cáncer de pulmón están haciendo efecto, basándonos en 4 nodos específicos que nosotros escogimos en el equipo. Los datos que utilizaremos son sacados de OECD (organisation for Economic Coperation and Development)  para darle valides a nuestro proyecto con una fuente confiable para obtener datos. Con la información obtenida, generaremos simulaciones a los 4 nodos propuestos para verificar si la hipótesis es verdadera y dar solución al problema.    "
   ]
  },
  {
   "cell_type": "markdown",
   "metadata": {},
   "source": [
    "___\n",
    "## 1. Entregable.\n",
    "Los trabajos deben tener los siguientes componentes básicos.\n",
    "\n",
    "### 1.1 Título del trabajo.\n",
    "> Debe describir el trabajo.\n",
    "\n",
    "### 1.2 Objetivos.\n",
    "\n",
    "> #### 1.1 Objetivo general.\n",
    ">  Verificar la efectividad de las campañas sobre el cáncer de pulmón.\n",
    "> #### 1.2 Objetivos específicos\n",
    "> -  Comprobar que nuestra hipótesis sea verdadera.\n",
    "> -  Saber si los casos de cáncer de pulmón, gracias a las campañas esta disminuyendo a nivel mundial (por genero y por clase social).\n",
    "> -  Conocer el ritmo de crecimiento o decrecimiento en los grupos mencionados.\n",
    "\n",
    "\n",
    "Referencia:\n",
    "- https://www.cancer.gov/espanol/cancer/naturaleza/estadisticas\n",
    "\n",
    "### 1.3 Definición del problema.\n",
    "> El cáncer hoy en día es una de las primeras causas de muerte a nivel mundial; en 2012 se le atribuyeron 8,2 millones de muertes. Los cánceres que causan un mayor número anual de muertes son los de pulmón, hígado, estómago, colon y mama.\n",
    "\n",
    ">Los tipos más frecuentes de cáncer son diferentes en el hombre y en la mujer., aproximadamente un 30% de las muertes por cáncer se deben a cinco factores de riesgo comportamentales y alimentarios (índice de masa corporal elevado, consumo insuficiente de frutas y verduras, falta de actividad física y consumo de tabaco y alcohol) y, por lo tanto, pueden prevenirse. El cáncer comienza con la transformación de una sola célula, que puede tener su origen en agentes externos y en factores genéticos heredados.\n",
    "\n",
    ">Con estos datos podemos ver en nuestra hipótesis como se mueve la enfermedad en un caso especifico alrededor del mundo en tanto hombre como a mujeres y en sus diferentes clases sociales.\n",
    "\n",
    "\n",
    "\n",
    "### 1.4 Nodos y variables que se decidieron simular y porqué\n",
    "\n",
    "> -\tNodo 1: Hombres primer mundistas.\n",
    "> -\tNodo 2: Hombres en el resto del mundo.\n",
    "> -\tNodo 3: Mujeres primer mundistas.\n",
    "> -\tNodo 4: Mujeres en el resto del mundo.\n",
    "\n",
    ">La razón por la que escogimos estos nodos fue para encontrar si el cáncer de pulmón  afecta a todas las clases sociales separadas por sexo, y con estos datos poder verificar la hipótesis si los índices de cáncer de pulmón están disminuyendo.\n",
    "\n",
    "\n",
    "### 1.5 Definición de hipótesis y supuestos.\n",
    ">  Damos como supuesto debido a la información, publicidad y campaña sobre este tipo de cáncer las tasas deben de ir disminuyendo\n",
    "\n",
    "### 1.6 Obtención de bases de datos\n",
    "> El tercer paso del proyecto es indicar de dónde se obtendrán las bases de datos, que indican como se han comportado las variables que identificaste en tu proceso de negocio que vas a simular. En esta investigación debes haber encontrado información propia de la empresa, organización o institución que vas a simular y otra parte de la información debe provenir de investigación que realices en fuentes de información públicas o privadas como las que tiene SECOBI, ahí normalmente y dependiendo del problema elegido, se investigan variables económicas, como tasas de interés, inflación, tipo de cambio, etc., de varios años, por poner un ejemplo.\n",
    "\n"
   ]
  },
  {
   "cell_type": "code",
   "execution_count": 23,
   "metadata": {},
   "outputs": [],
   "source": [
    "import numpy as np\n",
    "import datetime\n",
    "import scipy.stats as stats\n",
    "import matplotlib.pyplot as plt\n",
    "import scipy.stats as st\n",
    "\n",
    "# Importamos pandas\n",
    "import pandas as pd\n"
   ]
  },
  {
   "cell_type": "markdown",
   "metadata": {},
   "source": [
    "## Conociendo nuestros datos"
   ]
  },
  {
   "cell_type": "code",
   "execution_count": 3,
   "metadata": {},
   "outputs": [
    {
     "data": {
      "text/html": [
       "<div>\n",
       "<style scoped>\n",
       "    .dataframe tbody tr th:only-of-type {\n",
       "        vertical-align: middle;\n",
       "    }\n",
       "\n",
       "    .dataframe tbody tr th {\n",
       "        vertical-align: top;\n",
       "    }\n",
       "\n",
       "    .dataframe thead th {\n",
       "        text-align: right;\n",
       "    }\n",
       "</style>\n",
       "<table border=\"1\" class=\"dataframe\">\n",
       "  <thead>\n",
       "    <tr style=\"text-align: right;\">\n",
       "      <th></th>\n",
       "      <th>Canadah</th>\n",
       "      <th>Franceh</th>\n",
       "      <th>Irelandh</th>\n",
       "      <th>Mexicoh</th>\n",
       "      <th>UnitedStatesh</th>\n",
       "      <th>Chileh</th>\n",
       "      <th>Canadam</th>\n",
       "      <th>Francem</th>\n",
       "      <th>Irelandm</th>\n",
       "      <th>Mexicom</th>\n",
       "      <th>UnitedStatesm</th>\n",
       "      <th>Chilem</th>\n",
       "    </tr>\n",
       "    <tr>\n",
       "      <th>date</th>\n",
       "      <th></th>\n",
       "      <th></th>\n",
       "      <th></th>\n",
       "      <th></th>\n",
       "      <th></th>\n",
       "      <th></th>\n",
       "      <th></th>\n",
       "      <th></th>\n",
       "      <th></th>\n",
       "      <th></th>\n",
       "      <th></th>\n",
       "      <th></th>\n",
       "    </tr>\n",
       "  </thead>\n",
       "  <tbody>\n",
       "    <tr>\n",
       "      <th>2000</th>\n",
       "      <td>NaN</td>\n",
       "      <td>22910</td>\n",
       "      <td>941</td>\n",
       "      <td>NaN</td>\n",
       "      <td>NaN</td>\n",
       "      <td>NaN</td>\n",
       "      <td>NaN</td>\n",
       "      <td>3833</td>\n",
       "      <td>538</td>\n",
       "      <td>NaN</td>\n",
       "      <td>NaN</td>\n",
       "      <td>NaN</td>\n",
       "    </tr>\n",
       "    <tr>\n",
       "      <th>2002</th>\n",
       "      <td>12552.0</td>\n",
       "      <td>23044</td>\n",
       "      <td>1001</td>\n",
       "      <td>5622.0</td>\n",
       "      <td>118873.0</td>\n",
       "      <td>NaN</td>\n",
       "      <td>8096.0</td>\n",
       "      <td>4507</td>\n",
       "      <td>598</td>\n",
       "      <td>2633.0</td>\n",
       "      <td>86024.0</td>\n",
       "      <td>NaN</td>\n",
       "    </tr>\n",
       "    <tr>\n",
       "      <th>2008</th>\n",
       "      <td>11215.0</td>\n",
       "      <td>24236</td>\n",
       "      <td>1160</td>\n",
       "      <td>6297.0</td>\n",
       "      <td>114691.0</td>\n",
       "      <td>1783.0</td>\n",
       "      <td>10384.0</td>\n",
       "      <td>8194</td>\n",
       "      <td>860</td>\n",
       "      <td>2851.0</td>\n",
       "      <td>100330.0</td>\n",
       "      <td>1070.0</td>\n",
       "    </tr>\n",
       "    <tr>\n",
       "      <th>2012</th>\n",
       "      <td>13444.0</td>\n",
       "      <td>28033</td>\n",
       "      <td>1246</td>\n",
       "      <td>5471.0</td>\n",
       "      <td>112054.0</td>\n",
       "      <td>1790.0</td>\n",
       "      <td>12037.0</td>\n",
       "      <td>12010</td>\n",
       "      <td>1027</td>\n",
       "      <td>2968.0</td>\n",
       "      <td>102172.0</td>\n",
       "      <td>1337.0</td>\n",
       "    </tr>\n",
       "  </tbody>\n",
       "</table>\n",
       "</div>"
      ],
      "text/plain": [
       "      Canadah  Franceh  Irelandh  Mexicoh  UnitedStatesh  Chileh  Canadam  \\\n",
       "date                                                                        \n",
       "2000      NaN    22910       941      NaN            NaN     NaN      NaN   \n",
       "2002  12552.0    23044      1001   5622.0       118873.0     NaN   8096.0   \n",
       "2008  11215.0    24236      1160   6297.0       114691.0  1783.0  10384.0   \n",
       "2012  13444.0    28033      1246   5471.0       112054.0  1790.0  12037.0   \n",
       "\n",
       "      Francem  Irelandm  Mexicom  UnitedStatesm  Chilem  \n",
       "date                                                     \n",
       "2000     3833       538      NaN            NaN     NaN  \n",
       "2002     4507       598   2633.0        86024.0     NaN  \n",
       "2008     8194       860   2851.0       100330.0  1070.0  \n",
       "2012    12010      1027   2968.0       102172.0  1337.0  "
      ]
     },
     "execution_count": 3,
     "metadata": {},
     "output_type": "execute_result"
    }
   ],
   "source": [
    "# Cargamos hoja de calculo en un dataframe todos los paises de muestra\n",
    "ruta = '../DATA/cancerpulmonhym.csv'\n",
    "datos = pd.read_csv(ruta, index_col=['date'])\n",
    "datos"
   ]
  },
  {
   "cell_type": "code",
   "execution_count": 31,
   "metadata": {},
   "outputs": [
    {
     "data": {
      "image/png": "[encoded data removed]",
      "text/plain": [
       "<Figure size 432x288 with 1 Axes>"
      ]
     },
     "metadata": {
      "needs_background": "light"
     },
     "output_type": "display_data"
    }
   ],
   "source": [
    "\n",
    "datos.plot()\n",
    "plt.legend(loc='best')\n",
    "plt.show()"
   ]
  },
  {
   "cell_type": "code",
   "execution_count": 11,
   "metadata": {},
   "outputs": [
    {
     "data": {
      "text/html": [
       "<div>\n",
       "<style scoped>\n",
       "    .dataframe tbody tr th:only-of-type {\n",
       "        vertical-align: middle;\n",
       "    }\n",
       "\n",
       "    .dataframe tbody tr th {\n",
       "        vertical-align: top;\n",
       "    }\n",
       "\n",
       "    .dataframe thead th {\n",
       "        text-align: right;\n",
       "    }\n",
       "</style>\n",
       "<table border=\"1\" class=\"dataframe\">\n",
       "  <thead>\n",
       "    <tr style=\"text-align: right;\">\n",
       "      <th></th>\n",
       "      <th>Primermundistasm</th>\n",
       "      <th>3mundom</th>\n",
       "      <th>Primermundoh</th>\n",
       "      <th>3mundoh</th>\n",
       "    </tr>\n",
       "    <tr>\n",
       "      <th>date</th>\n",
       "      <th></th>\n",
       "      <th></th>\n",
       "      <th></th>\n",
       "      <th></th>\n",
       "    </tr>\n",
       "  </thead>\n",
       "  <tbody>\n",
       "    <tr>\n",
       "      <th>2002</th>\n",
       "      <td>13201</td>\n",
       "      <td>88657</td>\n",
       "      <td>36597</td>\n",
       "      <td>124495</td>\n",
       "    </tr>\n",
       "    <tr>\n",
       "      <th>2008</th>\n",
       "      <td>19438</td>\n",
       "      <td>104251</td>\n",
       "      <td>36611</td>\n",
       "      <td>122771</td>\n",
       "    </tr>\n",
       "    <tr>\n",
       "      <th>2012</th>\n",
       "      <td>25074</td>\n",
       "      <td>106477</td>\n",
       "      <td>42723</td>\n",
       "      <td>119315</td>\n",
       "    </tr>\n",
       "  </tbody>\n",
       "</table>\n",
       "</div>"
      ],
      "text/plain": [
       "      Primermundistasm  3mundom  Primermundoh  3mundoh\n",
       "date                                                  \n",
       "2002             13201    88657         36597   124495\n",
       "2008             19438   104251         36611   122771\n",
       "2012             25074   106477         42723   119315"
      ]
     },
     "execution_count": 11,
     "metadata": {},
     "output_type": "execute_result"
    }
   ],
   "source": [
    "# Cargamos hoja de calculo en un dataframe datos sobre nivel socioeconomico\n",
    "ruta2 = '../DATA/primerytercer.csv'\n",
    "lvlsocio = pd.read_csv(ruta2, index_col=['date'])\n",
    "lvlsocio"
   ]
  },
  {
   "cell_type": "code",
   "execution_count": 12,
   "metadata": {},
   "outputs": [
    {
     "data": {
      "image/png": "[encoded data removed]",
      "text/plain": [
       "<Figure size 432x288 with 1 Axes>"
      ]
     },
     "metadata": {
      "needs_background": "light"
     },
     "output_type": "display_data"
    }
   ],
   "source": [
    "lvlsocio.plot()\n",
    "plt.show()"
   ]
  },
  {
   "cell_type": "markdown",
   "metadata": {},
   "source": [
    "## Histograma"
   ]
  },
  {
   "cell_type": "code",
   "execution_count": 14,
   "metadata": {},
   "outputs": [
    {
     "data": {
      "image/png": "[encoded data removed]",
      "text/plain": [
       "<Figure size 432x288 with 1 Axes>"
      ]
     },
     "metadata": {
      "needs_background": "light"
     },
     "output_type": "display_data"
    }
   ],
   "source": [
    "plt.hist(lvlsocio, bins=5)\n",
    "plt.xlabel(\"Distribucion\")\n",
    "plt.ylabel(\"numero\")\n",
    "plt.show()"
   ]
  },
  {
   "cell_type": "code",
   "execution_count": 9,
   "metadata": {},
   "outputs": [
    {
     "data": {
      "image/png": "[encoded data removed]",
      "text/plain": [
       "<Figure size 432x288 with 1 Axes>"
      ]
     },
     "metadata": {
      "needs_background": "light"
     },
     "output_type": "display_data"
    }
   ],
   "source": [
    "plt.hist(datos, bins=3)\n",
    "plt.xlabel(\"Distribucion\")\n",
    "plt.ylabel(\"numero\")\n",
    "plt.show()"
   ]
  },
  {
   "cell_type": "markdown",
   "metadata": {},
   "source": [
    "## Inicio de simulación"
   ]
  },
  {
   "cell_type": "code",
   "execution_count": 29,
   "metadata": {},
   "outputs": [
    {
     "data": {
      "text/plain": [
       "array([[0.        , 0.        , 0.        , 0.        ],\n",
       "       [0.00016267, 0.        , 0.        , 0.        ],\n",
       "       [0.        , 0.        , 0.        , 0.        ]])"
      ]
     },
     "execution_count": 29,
     "metadata": {},
     "output_type": "execute_result"
    }
   ],
   "source": [
    "#Nodo 1: hombre primer mundistas\n",
    "#x=\n",
    "mode = lvlsocio['Primermundistasm'].mean()\n",
    "left = lvlsocio.iloc[0,0]\n",
    "right =lvlsocio.iloc[2,0] \n",
    "c = (mode - left) / (right - left)\n",
    "loc = left\n",
    "scale = right - left\n",
    "\n",
    "a =st.triang.pdf(lvlsocio,c,loc,scale)\n",
    "a"
   ]
  },
  {
   "cell_type": "markdown",
   "metadata": {},
   "source": [
    "### 1.7 Visualización de resultados de simulación.\n",
    "> Se deben simular al menos 4  \"nodos\" o \"escenarios\" en tu problema. Para la segunda entrega debes haber elaborado un programa que simule dos de ellos, los primeros dos de tu diagrama.\n",
    "> Para la entrega final deben de tener los 4 nodos con todas sus simulaciones.\n",
    "\n",
    "### 1.6 Conclusiones.\n",
    "> Mucho cuidado, las conclusiones no son cualquier cosa. Se debe concluir respecto a los objetivos planteados de acuerdo a los resultados obtenidos.\n",
    "\n",
    "### 1.7 Referencias.\n",
    "> Citar (en formato APA) la bibliografía utilizada."
   ]
  },
  {
   "cell_type": "markdown",
   "metadata": {},
   "source": [
    "___\n",
    "## 2. Especificaciones adicionales.\n",
    "En el grupo deben haber mínimo dos integrantes y máximo tres integrantes. Para propósitos logísticos nada más, por favor enumérense como *integrante 1*, *integrante 2* e *integrante 3*.\n",
    "\n",
    "### 2.1 Notebook de jupyter. \n",
    "> Los anteriores numerales los deben desarrollar todos en un notebook de jupyter y llamarlo de la siguiente manera `ProyectoModulo1_ApellidoN1_ApellidoN2_ApellidoN3`, donde `ApellidoNi` hace referencia al apellido materno y la inicial del primer nombre del integrante `i`.\n",
    "\n",
    "### 2.2 Proyecto en `GitHub`.\n",
    "> El integrante 1 deberá crear un proyecto en `GitHub` llamado **proyecto_modulo1**, donde tendrán todos los archivos relacionados con el proyecto. Los demás integrantes deben hacer un *fork* del proyecto, seguir el proyecto principal con `GitKraken` y hacer al menos dos contribuciones con *pull request* (como se hizo en la tarea). En el proyecto, deben incluir el repositorio remoto del integrante 1.\n",
    "\n",
    "### 2.3 Presentación.\n",
    "> Recuerden que la nota del proyecto es mitad el trabajo, y mitad la presentación. Deben hacer una presentación ya sea en power point o utlizando un notebook de python para presentar el trabajo durante un horario de clase que se será posteriomente definido. La presentación, además de llevar todos los componentes básicos descritos en el entregable, debe llevar una tabla de contenido.\n",
    "> - Presentación: 10 minutos.\n",
    "> - Seguir estas recomendaciones: https://es.slideshare.net/MeireComputacion/power-point-pautas-para-una-buen-trabajo"
   ]
  },
  {
   "cell_type": "markdown",
   "metadata": {},
   "source": [
    "<script>\n",
    "  $(document).ready(function(){\n",
    "    $('div.prompt').hide();\n",
    "    $('div.back-to-top').hide();\n",
    "    $('nav#menubar').hide();\n",
    "    $('.breadcrumb').hide();\n",
    "    $('.hidden-print').hide();\n",
    "  });\n",
    "</script>\n",
    "\n",
    "<footer id=\"attribution\" style=\"float:right; color:#808080; background:#fff;\">\n",
    "Created with Jupyter by Esteban Jiménez Rodríguez.\n",
    "</footer>"
   ]
  }
 ],
 "metadata": {
  "kernelspec": {
   "display_name": "Python 3",
   "language": "python",
   "name": "python3"
  },
  "language_info": {
   "codemirror_mode": {
    "name": "ipython",
    "version": 3
   },
   "file_extension": ".py",
   "mimetype": "text/x-python",
   "name": "python",
   "nbconvert_exporter": "python",
   "pygments_lexer": "ipython3",
   "version": "3.7.1"
  }
 },
 "nbformat": 4,
 "nbformat_minor": 2
}
